{
 "cells": [
  {
   "cell_type": "code",
   "execution_count": 1,
   "metadata": {},
   "outputs": [],
   "source": [
    "import numpy as np\n",
    "import laspy\n",
    "import matplotlib.pyplot as plt"
   ]
  },
  {
   "cell_type": "code",
   "execution_count": 2,
   "metadata": {},
   "outputs": [],
   "source": [
    "inFile = laspy.file.File(\"/Users/xRai/NYU/CUSP/Dublin/NW-SE/nyu_2451_38671_laz/F_150326_150519 - Cloud.las\", mode=\"r\")"
   ]
  },
  {
   "cell_type": "code",
   "execution_count": 3,
   "metadata": {},
   "outputs": [],
   "source": [
    "#sorting gpstime\n",
    "gpstime = inFile.gps_time\n",
    "gps_sort_ind = np.argsort(gpstime)\n",
    "gpstime = gpstime[gps_sort_ind]"
   ]
  },
  {
   "cell_type": "code",
   "execution_count": 4,
   "metadata": {},
   "outputs": [],
   "source": [
    "#sort inFile.points\n",
    "FPoints = inFile.points\n",
    "FPoints = FPoints[gps_sort_ind]"
   ]
  },
  {
   "cell_type": "code",
   "execution_count": 5,
   "metadata": {},
   "outputs": [],
   "source": [
    "#calculate gpstime difference\n",
    "tdiff = np.diff(gpstime)"
   ]
  },
  {
   "cell_type": "code",
   "execution_count": 6,
   "metadata": {},
   "outputs": [],
   "source": [
    "#sort flight edge\n",
    "fle = inFile.edge_flight_line\n",
    "fle = fle[gps_sort_ind]"
   ]
  },
  {
   "cell_type": "code",
   "execution_count": 7,
   "metadata": {},
   "outputs": [],
   "source": [
    "#get index where 'edge' ==1\n",
    "ind_fle = np.where(fle==1)\n",
    "ind_fle = np.hstack(ind_fle)"
   ]
  },
  {
   "cell_type": "code",
   "execution_count": 8,
   "metadata": {},
   "outputs": [],
   "source": [
    "#remove even index in index_fle & last index\n",
    "e_ind_fle = ind_fle[1::2]\n",
    "e_ind_fle = e_ind_fle[:-1]"
   ]
  },
  {
   "cell_type": "code",
   "execution_count": 9,
   "metadata": {},
   "outputs": [],
   "source": [
    "#replace gap between scanline by -1\n",
    "tdiffF = tdiff[:]\n",
    "for i in e_ind_fle:\n",
    "    tdiffF[i] = -1"
   ]
  },
  {
   "cell_type": "code",
   "execution_count": 22,
   "metadata": {},
   "outputs": [
    {
     "name": "stdout",
     "output_type": "stream",
     "text": [
      "40507046\n",
      "40491663\n",
      "0.0003215736837487483\n"
     ]
    }
   ],
   "source": [
    "count_all = len(np.where(tdiffF >= 0)[0])\n",
    "count_1 = len(np.where(abs(tdiffF-0.00052) <= 0.00048)[0])\n",
    "count_2 = len(np.where(abs(tdiffF-0.00002) <= 0.00002)[0])\n",
    "ratio = count_1 / count_all\n",
    "print(count_all)\n",
    "print(count_2)\n",
    "print(ratio)"
   ]
  },
  {
   "cell_type": "code",
   "execution_count": 35,
   "metadata": {},
   "outputs": [],
   "source": [
    "#find points greater than 0.00015\n",
    "#index\n",
    "tdiffF_masked = np.where(abs(tdiffF-0.00052) <= 0.00048)\n",
    "tdiffF_masked = np.hstack(tdiffF_masked)\n",
    "tdiffF_masked_1 = tdiffF_masked + 1"
   ]
  },
  {
   "cell_type": "code",
   "execution_count": 36,
   "metadata": {},
   "outputs": [],
   "source": [
    "#merge two lists\n",
    "tdiffF_merged = np.concatenate((tdiffF_masked,tdiffF_masked_1))\n",
    "sorted_indF = np.argsort(tdiffF_merged)\n",
    "tdiffF_merged = tdiffF_merged[sorted_indF]\n",
    "tdiffF_merged = np.unique(tdiffF_merged)"
   ]
  },
  {
   "cell_type": "code",
   "execution_count": 37,
   "metadata": {},
   "outputs": [],
   "source": [
    "#keep points\n",
    "#ind = tdiffF_merged\n",
    "#lst = FPoints\n",
    "outtype = FPoints.dtype\n",
    "outPoint = np.empty(len(tdiffF_merged),outtype)\n",
    "for i in range(len(tdiffF_merged)):\n",
    "    outPoint[i]=FPoints[tdiffF_merged[i]]"
   ]
  },
  {
   "cell_type": "code",
   "execution_count": 38,
   "metadata": {},
   "outputs": [],
   "source": [
    "outFile = laspy.file.File(\"/Users/xRai/NYU/CUSP/Dublin/NW-SE/nyu_2451_38671_laz/19_t4.las\", mode = \"w\",\n",
    "                header = inFile.header)\n",
    "outFile.points = outPoint\n",
    "outFile.close()"
   ]
  },
  {
   "cell_type": "code",
   "execution_count": 1,
   "metadata": {},
   "outputs": [
    {
     "ename": "NameError",
     "evalue": "name 'plt' is not defined",
     "output_type": "error",
     "traceback": [
      "\u001b[0;31m---------------------------------------------------------------------------\u001b[0m",
      "\u001b[0;31mNameError\u001b[0m                                 Traceback (most recent call last)",
      "\u001b[0;32m<ipython-input-1-071e622a36f9>\u001b[0m in \u001b[0;36m<module>\u001b[0;34m\u001b[0m\n\u001b[0;32m----> 1\u001b[0;31m \u001b[0mplt\u001b[0m\u001b[0;34m.\u001b[0m\u001b[0mhist\u001b[0m\u001b[0;34m(\u001b[0m\u001b[0mtdiff\u001b[0m\u001b[0;34m,\u001b[0m\u001b[0mbins\u001b[0m\u001b[0;34m=\u001b[0m\u001b[0;36m10\u001b[0m\u001b[0;34m,\u001b[0m\u001b[0mrange\u001b[0m\u001b[0;34m=\u001b[0m\u001b[0;34m(\u001b[0m\u001b[0;36m0.0000\u001b[0m\u001b[0;34m,\u001b[0m\u001b[0;36m0.00004\u001b[0m\u001b[0;34m)\u001b[0m\u001b[0;34m,\u001b[0m\u001b[0mrwidth\u001b[0m\u001b[0;34m=\u001b[0m\u001b[0;36m0.95\u001b[0m\u001b[0;34m,\u001b[0m\u001b[0morientation\u001b[0m\u001b[0;34m=\u001b[0m\u001b[0;34m'horizontal'\u001b[0m\u001b[0;34m)\u001b[0m\u001b[0;34m\u001b[0m\u001b[0;34m\u001b[0m\u001b[0m\n\u001b[0m",
      "\u001b[0;31mNameError\u001b[0m: name 'plt' is not defined"
     ]
    }
   ],
   "source": []
  },
  {
   "cell_type": "code",
   "execution_count": null,
   "metadata": {},
   "outputs": [],
   "source": []
  }
 ],
 "metadata": {
  "kernelspec": {
   "display_name": "Python 3",
   "language": "python",
   "name": "python3"
  },
  "language_info": {
   "codemirror_mode": {
    "name": "ipython",
    "version": 3
   },
   "file_extension": ".py",
   "mimetype": "text/x-python",
   "name": "python",
   "nbconvert_exporter": "python",
   "pygments_lexer": "ipython3",
   "version": "3.7.3"
  }
 },
 "nbformat": 4,
 "nbformat_minor": 2
}
